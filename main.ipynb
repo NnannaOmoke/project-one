{
 "cells": [
  {
   "cell_type": "code",
   "execution_count": 1,
   "metadata": {},
   "outputs": [],
   "source": [
    "import numpy as np;\n",
    "import pandas as pan;\n",
    "import matplotlib.pyplot as plotter;\n",
    "import seaborn as sns;"
   ]
  },
  {
   "cell_type": "code",
   "execution_count": 2,
   "metadata": {},
   "outputs": [],
   "source": [
    "fandango_matrix_data = pan.read_csv(\"fandango_scrape.csv\");\n",
    "other_matrix_data = pan.read_csv(\"all_sites_scores.csv\");"
   ]
  },
  {
   "cell_type": "code",
   "execution_count": 3,
   "metadata": {},
   "outputs": [
    {
     "name": "stdout",
     "output_type": "stream",
     "text": [
      "                          FILM  STARS  RATING  VOTES\n",
      "0  Fifty Shades of Grey (2015)    4.0     3.9  34846\n",
      "1        Jurassic World (2015)    4.5     4.5  34390\n",
      "2       American Sniper (2015)    5.0     4.8  34085\n",
      "3             Furious 7 (2015)    5.0     4.8  33538\n",
      "4            Inside Out (2015)    4.5     4.5  15749\n",
      "<class 'pandas.core.frame.DataFrame'>\n",
      "RangeIndex: 504 entries, 0 to 503\n",
      "Data columns (total 4 columns):\n",
      " #   Column  Non-Null Count  Dtype  \n",
      "---  ------  --------------  -----  \n",
      " 0   FILM    504 non-null    object \n",
      " 1   STARS   504 non-null    float64\n",
      " 2   RATING  504 non-null    float64\n",
      " 3   VOTES   504 non-null    int64  \n",
      "dtypes: float64(2), int64(1), object(1)\n",
      "memory usage: 15.9+ KB\n",
      "None\n",
      "Index(['FILM', 'STARS', 'RATING', 'VOTES'], dtype='object')\n"
     ]
    }
   ],
   "source": [
    "print(fandango_matrix_data.head());\n",
    "print(fandango_matrix_data.info());\n",
    "print(fandango_matrix_data.columns);"
   ]
  },
  {
   "cell_type": "code",
   "execution_count": 4,
   "metadata": {},
   "outputs": [
    {
     "name": "stdout",
     "output_type": "stream",
     "text": [
      "                             FILM  RottenTomatoes  RottenTomatoes_User   \n",
      "0  Avengers: Age of Ultron (2015)              74                   86  \\\n",
      "1               Cinderella (2015)              85                   80   \n",
      "2                  Ant-Man (2015)              80                   90   \n",
      "3          Do You Believe? (2015)              18                   84   \n",
      "4   Hot Tub Time Machine 2 (2015)              14                   28   \n",
      "\n",
      "   Metacritic  Metacritic_User  IMDB  Metacritic_user_vote_count   \n",
      "0          66              7.1   7.8                        1330  \\\n",
      "1          67              7.5   7.1                         249   \n",
      "2          64              8.1   7.8                         627   \n",
      "3          22              4.7   5.4                          31   \n",
      "4          29              3.4   5.1                          88   \n",
      "\n",
      "   IMDB_user_vote_count  \n",
      "0                271107  \n",
      "1                 65709  \n",
      "2                103660  \n",
      "3                  3136  \n",
      "4                 19560  \n",
      "<class 'pandas.core.frame.DataFrame'>\n",
      "RangeIndex: 146 entries, 0 to 145\n",
      "Data columns (total 8 columns):\n",
      " #   Column                      Non-Null Count  Dtype  \n",
      "---  ------                      --------------  -----  \n",
      " 0   FILM                        146 non-null    object \n",
      " 1   RottenTomatoes              146 non-null    int64  \n",
      " 2   RottenTomatoes_User         146 non-null    int64  \n",
      " 3   Metacritic                  146 non-null    int64  \n",
      " 4   Metacritic_User             146 non-null    float64\n",
      " 5   IMDB                        146 non-null    float64\n",
      " 6   Metacritic_user_vote_count  146 non-null    int64  \n",
      " 7   IMDB_user_vote_count        146 non-null    int64  \n",
      "dtypes: float64(2), int64(5), object(1)\n",
      "memory usage: 9.3+ KB\n",
      "None\n",
      "<class 'pandas.core.frame.DataFrame'>\n",
      "RangeIndex: 146 entries, 0 to 145\n",
      "Data columns (total 8 columns):\n",
      " #   Column                      Non-Null Count  Dtype  \n",
      "---  ------                      --------------  -----  \n",
      " 0   FILM                        146 non-null    object \n",
      " 1   RottenTomatoes              146 non-null    int64  \n",
      " 2   RottenTomatoes_User         146 non-null    int64  \n",
      " 3   Metacritic                  146 non-null    int64  \n",
      " 4   Metacritic_User             146 non-null    float64\n",
      " 5   IMDB                        146 non-null    float64\n",
      " 6   Metacritic_user_vote_count  146 non-null    int64  \n",
      " 7   IMDB_user_vote_count        146 non-null    int64  \n",
      "dtypes: float64(2), int64(5), object(1)\n",
      "memory usage: 9.3+ KB\n",
      "None\n"
     ]
    }
   ],
   "source": [
    "print(other_matrix_data.head());\n",
    "print(other_matrix_data.info());\n",
    "print(other_matrix_data.info());"
   ]
  },
  {
   "cell_type": "code",
   "execution_count": 7,
   "metadata": {},
   "outputs": [
    {
     "data": {
      "image/png": "[encoded data removed]",
      "text/plain": [
       "<Figure size 640x480 with 1 Axes>"
      ]
     },
     "metadata": {},
     "output_type": "display_data"
    }
   ],
   "source": [
    "#scatterplot showing the relationship between the site generated rating and votes given by users\n",
    "sns.scatterplot(y = fandango_matrix_data[\"VOTES\"], x = fandango_matrix_data[\"RATING\"]);"
   ]
  },
  {
   "cell_type": "code",
   "execution_count": 9,
   "metadata": {},
   "outputs": [
    {
     "name": "stdout",
     "output_type": "stream",
     "text": [
      "           STARS    RATING     VOTES\n",
      "STARS   1.000000  0.994696  0.164218\n",
      "RATING  0.994696  1.000000  0.163764\n",
      "VOTES   0.164218  0.163764  1.000000\n"
     ]
    }
   ],
   "source": [
    "#this is the correlation between the numeric columns present in the fandango dataset. If the website is legit, the correlation between the rating and stars should be ~0.9 +-0.05 \n",
    "print(fandango_matrix_data.corr(numeric_only= True));"
   ]
  },
  {
   "cell_type": "code",
   "execution_count": 20,
   "metadata": {},
   "outputs": [
    {
     "name": "stdout",
     "output_type": "stream",
     "text": [
      "0      2015\n",
      "1      2015\n",
      "2      2015\n",
      "3      2015\n",
      "4      2015\n",
      "       ... \n",
      "499    2015\n",
      "500    2015\n",
      "501    2015\n",
      "502    1964\n",
      "503    2012\n",
      "Name: RELEASE_YEAR, Length: 504, dtype: object\n",
      "RELEASE_YEAR\n",
      "2015    478\n",
      "2014     23\n",
      "2016      1\n",
      "1964      1\n",
      "2012      1\n",
      "Name: count, dtype: int64\n",
      "2015\n"
     ]
    }
   ],
   "source": [
    "#we want to check the release year of the fandango movies\n",
    "fandango_matrix_data[\"RELEASE_YEAR\"] = np.vectorize(lambda x: x[-5:-1])(fandango_matrix_data[\"FILM\"]);\n",
    "print(fandango_matrix_data[\"RELEASE_YEAR\"]);\n",
    "#what year occurs the most?\n",
    "print(fandango_matrix_data[\"RELEASE_YEAR\"].value_counts())\n",
    "print(fandango_matrix_data[\"RELEASE_YEAR\"].value_counts().index[0]);"
   ]
  },
  {
   "cell_type": "code",
   "execution_count": 21,
   "metadata": {},
   "outputs": [
    {
     "data": {
      "image/png": "[encoded data removed]",
      "text/plain": [
       "<Figure size 640x480 with 1 Axes>"
      ]
     },
     "metadata": {},
     "output_type": "display_data"
    }
   ],
   "source": [
    "#we can visualize the movie count with a count plot\n",
    "sns.countplot(x = fandango_matrix_data[\"RELEASE_YEAR\"]);"
   ]
  },
  {
   "cell_type": "code",
   "execution_count": 25,
   "metadata": {},
   "outputs": [
    {
     "name": "stdout",
     "output_type": "stream",
     "text": [
      "       FILM  STARS  RATING  RELEASE_YEAR\n",
      "VOTES                                   \n",
      "0        69     69      69            69\n",
      "1        35     35      35            35\n",
      "2        19     19      19            19\n",
      "3        13     13      13            13\n",
      "4        22     22      22            22\n"
     ]
    }
   ],
   "source": [
    "#what 10 movies have the higest number of vote);"
   ]
  }
 ],
 "metadata": {
  "kernelspec": {
   "display_name": "Python 3",
   "language": "python",
   "name": "python3"
  },
  "language_info": {
   "codemirror_mode": {
    "name": "ipython",
    "version": 3
   },
   "file_extension": ".py",
   "mimetype": "text/x-python",
   "name": "python",
   "nbconvert_exporter": "python",
   "pygments_lexer": "ipython3",
   "version": "3.11.2"
  },
  "orig_nbformat": 4
 },
 "nbformat": 4,
 "nbformat_minor": 2
}
